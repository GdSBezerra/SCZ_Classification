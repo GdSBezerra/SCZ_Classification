{
 "cells": [
  {
   "cell_type": "markdown",
   "id": "a7a2d171",
   "metadata": {},
   "source": [
    "# Importando Bibliotecas"
   ]
  },
  {
   "cell_type": "code",
   "execution_count": 1,
   "id": "ecadce8e",
   "metadata": {},
   "outputs": [],
   "source": [
    "import pandas as pd\n",
    "import numpy as np\n",
    "\n",
    "from sklearn.model_selection import StratifiedKFold, cross_val_score\n",
    "from sklearn.metrics import matthews_corrcoef,recall_score, make_scorer\n",
    "\n",
    "from xgboost import XGBClassifier"
   ]
  },
  {
   "cell_type": "markdown",
   "id": "34eef59f",
   "metadata": {},
   "source": [
    "# Leitura dos Dados"
   ]
  },
  {
   "cell_type": "code",
   "execution_count": 2,
   "id": "463b2e11",
   "metadata": {},
   "outputs": [],
   "source": [
    "with open('Arquivos/entradas.npy', 'rb') as f:\n",
    "    entradas = np.load(f)\n",
    "with open('Arquivos/saidas.npy', 'rb') as f:\n",
    "    saidas = np.load(f)"
   ]
  },
  {
   "cell_type": "markdown",
   "id": "fe28b2d7",
   "metadata": {},
   "source": [
    "# Testando Modelos"
   ]
  },
  {
   "cell_type": "code",
   "execution_count": 3,
   "id": "b54a7f9a",
   "metadata": {},
   "outputs": [
    {
     "data": {
      "text/html": [
       "<div>\n",
       "<style scoped>\n",
       "    .dataframe tbody tr th:only-of-type {\n",
       "        vertical-align: middle;\n",
       "    }\n",
       "\n",
       "    .dataframe tbody tr th {\n",
       "        vertical-align: top;\n",
       "    }\n",
       "\n",
       "    .dataframe thead th {\n",
       "        text-align: right;\n",
       "    }\n",
       "</style>\n",
       "<table border=\"1\" class=\"dataframe\">\n",
       "  <thead>\n",
       "    <tr style=\"text-align: right;\">\n",
       "      <th></th>\n",
       "      <th>XGB</th>\n",
       "      <th>Mean</th>\n",
       "      <th>STD</th>\n",
       "    </tr>\n",
       "  </thead>\n",
       "  <tbody>\n",
       "    <tr>\n",
       "      <th>0</th>\n",
       "      <td>ACC</td>\n",
       "      <td>0.953922</td>\n",
       "      <td>0.005980</td>\n",
       "    </tr>\n",
       "    <tr>\n",
       "      <th>1</th>\n",
       "      <td>PRE</td>\n",
       "      <td>0.953203</td>\n",
       "      <td>0.011998</td>\n",
       "    </tr>\n",
       "    <tr>\n",
       "      <th>2</th>\n",
       "      <td>REC</td>\n",
       "      <td>0.939207</td>\n",
       "      <td>0.014261</td>\n",
       "    </tr>\n",
       "    <tr>\n",
       "      <th>3</th>\n",
       "      <td>F1</td>\n",
       "      <td>0.946023</td>\n",
       "      <td>0.007124</td>\n",
       "    </tr>\n",
       "    <tr>\n",
       "      <th>4</th>\n",
       "      <td>AUC</td>\n",
       "      <td>0.990897</td>\n",
       "      <td>0.002619</td>\n",
       "    </tr>\n",
       "    <tr>\n",
       "      <th>5</th>\n",
       "      <td>SPE</td>\n",
       "      <td>0.965028</td>\n",
       "      <td>0.009605</td>\n",
       "    </tr>\n",
       "    <tr>\n",
       "      <th>6</th>\n",
       "      <td>MCC</td>\n",
       "      <td>0.906095</td>\n",
       "      <td>0.012226</td>\n",
       "    </tr>\n",
       "  </tbody>\n",
       "</table>\n",
       "</div>"
      ],
      "text/plain": [
       "   XGB      Mean       STD\n",
       "0  ACC  0.953922  0.005980\n",
       "1  PRE  0.953203  0.011998\n",
       "2  REC  0.939207  0.014261\n",
       "3   F1  0.946023  0.007124\n",
       "4  AUC  0.990897  0.002619\n",
       "5  SPE  0.965028  0.009605\n",
       "6  MCC  0.906095  0.012226"
      ]
     },
     "metadata": {},
     "output_type": "display_data"
    }
   ],
   "source": [
    "model = XGBClassifier(objective ='binary:logistic', eval_metric='logloss', random_state=42)\n",
    "\n",
    "dic = {}\n",
    "x = entradas\n",
    "y = saidas\n",
    "        \n",
    "k_fold_validation = StratifiedKFold(n_splits = 10, shuffle = True, random_state = 42)\n",
    "\n",
    "acc = cross_val_score(model, x, y.ravel(), scoring='accuracy',  cv=k_fold_validation, n_jobs=-1)\n",
    "dic['ACC'] = [acc.mean(), acc.std()]\n",
    "\n",
    "pre = cross_val_score(model, x, y.ravel(), scoring='precision', cv=k_fold_validation, n_jobs=-1)\n",
    "dic['PRE'] = [pre.mean(), pre.std()]\n",
    "\n",
    "rec = cross_val_score(model, x, y.ravel(), scoring='recall',    cv=k_fold_validation, n_jobs=-1)\n",
    "dic['REC'] = [rec.mean(), rec.std()]\n",
    "\n",
    "f1  = cross_val_score(model, x, y.ravel(), scoring='f1',        cv=k_fold_validation, n_jobs=-1)\n",
    "dic['F1'] = [f1.mean(),   f1.std()]\n",
    "\n",
    "auc = cross_val_score(model, x, y.ravel(), scoring='roc_auc',   cv=k_fold_validation, n_jobs=-1)\n",
    "dic['AUC'] = [auc.mean(), auc.std()]\n",
    "\n",
    "specificity = make_scorer(recall_score, pos_label=0)\n",
    "spe = cross_val_score(model, x, y.ravel(), scoring = specificity, cv=k_fold_validation, n_jobs=-1)\n",
    "dic['SPE'] = [spe.mean(), spe.std()]\n",
    "\n",
    "MCC_scorer = make_scorer(matthews_corrcoef)\n",
    "mcc = cross_val_score(model, x, y.ravel(), scoring = MCC_scorer, cv=k_fold_validation, n_jobs=-1)\n",
    "dic['MCC'] = [mcc.mean(), mcc.std()]\n",
    "\n",
    "model.fit(x, y.ravel())\n",
    "\n",
    "metricas = pd.DataFrame.from_dict(dic, orient='index', columns=['M', 'S'])\n",
    "metricas = metricas.reset_index(level=0)\n",
    "metricas.columns = ['XGB','Mean', 'STD']\n",
    "\n",
    "display(metricas)"
   ]
  },
  {
   "cell_type": "markdown",
   "id": "bb106ad1",
   "metadata": {},
   "source": [
    "# Usando o modelo pra classificar novas entradas\n",
    "## Dados Novos "
   ]
  },
  {
   "cell_type": "code",
   "execution_count": 4,
   "id": "edad2709",
   "metadata": {},
   "outputs": [],
   "source": [
    "CLASS_FETO     =    2     #  0-Dado Faltante; 1-Pré-Termo(< 37s); 2-A Termo(>= 37 e < 42s); 3-Pós-Termo(> 42s) \n",
    "COMPRIMENT     =   45.4   #  Comprimento em centímetros (cm)  \n",
    "EXAM_LABZIKA   =    0     #  0-Critério Ausente; 1-Critério Presente : Laboratorial(Zika)\n",
    "EXAM_LABDEN    =    0     #  0-Critério Ausente; 1-Critério Presente : Laboratorial(Dengue)   \n",
    "EXAM_LABCHIK   =    0     #  0-Critério Ausente; 1-Critério Presente : Laboratorial(Chikungunya)   \n",
    "EXAM_LABSTORCH =    0     #  0-Critério Ausente; 1-Critério Presente : Laboratorial(STORCH)    \n",
    "EXAM_LABOUTROS =    0     #  0-Critério Ausente; 1-Critério Presente : Laboratorial(outros)  \n",
    "EXAM_IMAGEM    =    0     #  0-Critério Ausente; 1-Critério Presente : Imagem(Ultrassom/Tomografia/Ressonância)  \n",
    "CLINICO_EPIDEM =    0     #  0-Critério Ausente; 1-Critério Presente : Clínico-Epidemiológico   \n",
    "DEF_AUDIT      =    2     #  1-Sim; 2-Não\n",
    "DEF_NEURO      =    2     #  1-Sim; 2-Não\n",
    "DEF_VISUAL     =    2     #  1-Sim; 2-Não\n",
    "EXANT_GES      =    1     #  1-Sim(1ºtri); 2-Sim(2º tri); 3-Sim(3º tri); 4-Sim(não lembra a data); 5-Não; 6-Não sabe\n",
    "FEBRE_GES      =    1     #  1-Sim; 3-Ignorado; 5-Não\n",
    "GEST_DIAG      =    0     #  0-Dado Faltante; 1-(1ºtri); 2-(2º tri); 3-(3º tri); 4-(4º tri)\n",
    "GRAVIDEZ       =    1     #  1-Única; 2-Dupla; 3-Tripla ou mais; 4-Ignorado\n",
    "MICROCEFAL     =    6     #  1-Microcefalia com alteração do SNC; 2- Microcefalia com outras alterações congênitas; \n",
    "               # -------- >>> 4-Alterações congênitas sem microcefalia; 6-Microcefalia apenas; 8-Ignorado\n",
    "NEUROLOG       =    2     #  1-Sim; 2-Não\n",
    "PERIMCEFAL     =   30.8   #  Perímetro cefálico em centímetros (cm) \n",
    "PESO           = 2551.5   #  Peso em gramas (g) \n",
    "PRURIDO        =    2     #  1-Sim; 2-Não\n",
    "RACACOR        =    6     #  2-Negra; 3-Amarela; 4-Parda; 5-Indígena; 6-Ignorado; 7-Branca\n",
    "SEXO           =    1     #  1-Masculino; 3-Ignorado; 5-Feminino\n",
    "TPDETECCAO     =    6     #  1-Intrauterino(na gestação); 3-Não detectada; 4-Ignorado; 6-Pós-Parto\n",
    "\n",
    "\n",
    "entrada_nova = np.array([[CLASS_FETO, COMPRIMENT, EXAM_LABZIKA, EXAM_LABDEN, EXAM_LABCHIK, EXAM_LABSTORCH, EXAM_LABOUTROS,\n",
    "                          EXAM_IMAGEM, CLINICO_EPIDEM, DEF_AUDIT, DEF_NEURO, DEF_VISUAL, EXANT_GES , FEBRE_GES, GEST_DIAG, \n",
    "                          GRAVIDEZ, MICROCEFAL, NEUROLOG, PERIMCEFAL, PESO, PRURIDO, RACACOR, SEXO, TPDETECCAO]])"
   ]
  },
  {
   "cell_type": "markdown",
   "id": "82f7dc71",
   "metadata": {},
   "source": [
    "## Classificando"
   ]
  },
  {
   "cell_type": "code",
   "execution_count": 5,
   "id": "9cee92a1",
   "metadata": {},
   "outputs": [
    {
     "name": "stdout",
     "output_type": "stream",
     "text": [
      "Confirmado\n"
     ]
    }
   ],
   "source": [
    "classe = model.predict(entrada_nova)\n",
    "\n",
    "if classe[0]==0:\n",
    "    print('Descartado')\n",
    "elif classe[0]==1:\n",
    "    print('Confirmado')"
   ]
  }
 ],
 "metadata": {
  "kernelspec": {
   "display_name": "Python 3 (ipykernel)",
   "language": "python",
   "name": "python3"
  },
  "language_info": {
   "codemirror_mode": {
    "name": "ipython",
    "version": 3
   },
   "file_extension": ".py",
   "mimetype": "text/x-python",
   "name": "python",
   "nbconvert_exporter": "python",
   "pygments_lexer": "ipython3",
   "version": "3.8.10"
  }
 },
 "nbformat": 4,
 "nbformat_minor": 5
}
